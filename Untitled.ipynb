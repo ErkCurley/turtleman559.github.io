{
 "cells": [
  {
   "cell_type": "code",
   "execution_count": 343,
   "id": "4fd5c893-f156-404b-92ce-6b85580bac5f",
   "metadata": {},
   "outputs": [],
   "source": [
    "import pyttsx3\n",
    "import math\n",
    "\n",
    "f = open(\"log.txt\", \"r\", encoding=\"utf-8\")\n",
    "content_list = f.readlines()\n",
    "\n",
    "# Stores Master Log into array content_list"
   ]
  },
  {
   "cell_type": "code",
   "execution_count": 344,
   "id": "eec2aeba-c08a-44db-a3f9-34647a21eb83",
   "metadata": {},
   "outputs": [],
   "source": [
    "# content_list[1]"
   ]
  },
  {
   "cell_type": "code",
   "execution_count": 345,
   "id": "a1998a77-36b2-4897-80fc-bc9cc11ffa67",
   "metadata": {},
   "outputs": [],
   "source": [
    "# content_list[4]"
   ]
  },
  {
   "cell_type": "code",
   "execution_count": 346,
   "id": "791fed42-7b49-4ff9-8b5a-a5ff0a7c6818",
   "metadata": {},
   "outputs": [],
   "source": [
    "newList = []\n",
    "for i in content_list:\n",
    "    if not i == \"\\n\":\n",
    "        newList.append(i.replace(\"*\", \"\").replace(\"\\n\", \"\").replace('“', \"\").replace('”', \"\").replace('\"', \"\").replace(\"'\", \"\").strip())\n",
    "        \n",
    "#         Removes \"*\" and new lines from content_list, stores into array newList\n",
    "    \n",
    "index = 0\n",
    "lenList = len(newList)\n",
    "newText = []\n",
    "try:\n",
    "    while (index < lenList):\n",
    "        newText.append(newList[index] + \" \" + newList[index+1])\n",
    "        index = index + 2\n",
    "except IndexError: \n",
    "    print(index)\n",
    "    \n",
    "#     Pairs piece titles with piece descriptions as indexes on array newText"
   ]
  },
  {
   "cell_type": "code",
   "execution_count": 347,
   "id": "baa04489-a551-42e1-bc96-e6c712d5a731",
   "metadata": {},
   "outputs": [],
   "source": [
    "# count = 0\n",
    "# for i in newText:\n",
    "#     count = count + 1\n",
    "#     print(str(count) + \": \" + i)\n",
    "#     if count > 10:\n",
    "#         break"
   ]
  },
  {
   "cell_type": "code",
   "execution_count": 348,
   "id": "2acb3799-9ef2-4761-a9e5-9e28bfcc743b",
   "metadata": {},
   "outputs": [],
   "source": [
    "sentenceArray = []\n",
    "\n",
    "for i in newText:\n",
    "    for k in i.split(\".\"):\n",
    "        if not k == \"\":\n",
    "            sentenceArray.append(k)\n",
    "            \n",
    "# Splits newText along periods (sentences) and stores them into array sentenceArray."
   ]
  },
  {
   "cell_type": "code",
   "execution_count": 349,
   "id": "762283d9-b17c-49de-aba3-35a9c5cacf07",
   "metadata": {},
   "outputs": [],
   "source": [
    "# sentenceArray"
   ]
  },
  {
   "cell_type": "code",
   "execution_count": 350,
   "id": "f80d6327-9b5d-45c8-9afb-0b5bf9385b6f",
   "metadata": {},
   "outputs": [],
   "source": [
    "wordArray = []\n",
    "\n",
    "for i in newText: \n",
    "    for k in i.split(\" \"):\n",
    "        wordArray.append(k)\n",
    "        \n",
    "index = 0\n",
    "for i in wordArray:\n",
    "    wordArray[index] = wordArray[index].replace(\",\", \"\").replace('“', \"\").replace('”', \"\").replace(\"(\", \"\").replace(\")\", \"\").replace(\".\", \"\").replace(\";\", \"\").replace(\"-\",\"\").lower()\n",
    "    index = index + 1\n",
    "        \n",
    "# Splits newText along spaces (words) and stores them into array wordArray. Also removes special characters. "
   ]
  },
  {
   "cell_type": "code",
   "execution_count": 351,
   "id": "b9e6f8e4-bd4a-4d7c-9b7b-2515d7608067",
   "metadata": {},
   "outputs": [],
   "source": [
    "with open('sentences.txt', 'w', encoding='utf-8') as f:\n",
    "    for i in sentenceArray:\n",
    "        f.write('\"' + i + '\"' + \",\" + \"\\n\")\n",
    "        \n",
    "# Writes words from wordArray into a text file"
   ]
  },
  {
   "cell_type": "code",
   "execution_count": 352,
   "id": "94a02f83-7845-4848-8e3d-deaa8489cec7",
   "metadata": {},
   "outputs": [],
   "source": [
    "with open('all_words.txt', 'w', encoding='utf-8') as f:\n",
    "    for i in wordArray:\n",
    "        f.write('\"' + i + '\"' + \",\" + \"\\n\") \n",
    "\n",
    "# Writes sentences from sentenceArray into a text file, excluding special characters. "
   ]
  },
  {
   "cell_type": "code",
   "execution_count": 353,
   "id": "e61f6b6e-a82c-418d-b241-d1e132c7cd16",
   "metadata": {},
   "outputs": [],
   "source": [
    "index = 1\n",
    "lenList = len(newList)\n",
    "paragraphArray = []\n",
    "while (index < lenList):\n",
    "    paragraphArray.append(newList[index])\n",
    "    index = index + 2\n",
    "    \n",
    "# Writes only paragraphs (odd number listings in newList) to array paragraphArray"
   ]
  },
  {
   "cell_type": "code",
   "execution_count": 354,
   "id": "4721805a-c2a7-4ea7-b940-ff60107db0ab",
   "metadata": {},
   "outputs": [],
   "source": [
    "# count = 0 \n",
    "# for i in paragraphArray: \n",
    "#     print(str(count) + \": \" + str(i) + \"\\n\")\n",
    "#     count = count + 1"
   ]
  },
  {
   "cell_type": "code",
   "execution_count": 355,
   "id": "86dd1b97-2572-4960-b000-104dbe4216da",
   "metadata": {},
   "outputs": [],
   "source": [
    "with open('paragraphs.txt', 'w', encoding='utf-8') as f:\n",
    "    for i in paragraphArray:\n",
    "        f.write('\"' + i + '\"' + \",\" + \"\\n\")\n",
    "        \n",
    "# Writes paragraphArray to a text file "
   ]
  },
  {
   "cell_type": "code",
   "execution_count": 356,
   "id": "0168034d-f178-4df7-8a24-0f69bdd6a6ef",
   "metadata": {},
   "outputs": [],
   "source": [
    "uniqueArray = []\n",
    "wordCounts = {}\n",
    "\n",
    "for x in wordArray:\n",
    "    if x not in uniqueArray:\n",
    "        uniqueArray.append(x)\n",
    "\n",
    "for i in uniqueArray:\n",
    "    wordCounts[i] = wordArray.count(i)\n",
    "#     print(i + \": \" + str(wordArray.count(i)))\n",
    "    \n",
    "# Stores words in uniqueArray, counts their number of instances, and stores that pairing onto a dictionary wordCounts"
   ]
  },
  {
   "cell_type": "code",
   "execution_count": 357,
   "id": "29c42798-8c05-4af3-9623-98401ef14a82",
   "metadata": {},
   "outputs": [],
   "source": [
    "from collections import defaultdict\n",
    "\n",
    "rareWords = []\n",
    "wordCounts = defaultdict(int)\n",
    "for i in uniqueArray:\n",
    "    wordCounts[i] = wordArray.count(i)\n",
    "    \n",
    "for w in sorted(wordCounts, key=wordCounts.get, reverse=True):\n",
    "    if wordCounts[w] <= 35:\n",
    "        rareWords.append(w)\n",
    "    \n",
    "# Oragnizes wordCounts sequentially"
   ]
  },
  {
   "cell_type": "code",
   "execution_count": 358,
   "id": "b69cc78b-fc5d-47cb-807c-2c3feef31136",
   "metadata": {},
   "outputs": [],
   "source": [
    "with open('rare_words.txt', 'w', encoding='utf-8') as f:\n",
    "    for i in rareWords:\n",
    "        f.write('\"' + i + '\"' + \",\" + \"\\n\")\n",
    "        \n",
    "# Writes rareWords to a text file"
   ]
  },
  {
   "cell_type": "code",
   "execution_count": null,
   "id": "821f9903-0eca-43ff-9272-37c396cc01e3",
   "metadata": {},
   "outputs": [],
   "source": []
  }
 ],
 "metadata": {
  "kernelspec": {
   "display_name": "Python 3 (ipykernel)",
   "language": "python",
   "name": "python3"
  },
  "language_info": {
   "codemirror_mode": {
    "name": "ipython",
    "version": 3
   },
   "file_extension": ".py",
   "mimetype": "text/x-python",
   "name": "python",
   "nbconvert_exporter": "python",
   "pygments_lexer": "ipython3",
   "version": "3.8.12"
  }
 },
 "nbformat": 4,
 "nbformat_minor": 5
}
